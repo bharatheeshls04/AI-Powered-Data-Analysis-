{
 "cells": [
  {
   "cell_type": "code",
   "execution_count": 1,
   "metadata": {},
   "outputs": [
    {
     "name": "stdout",
     "output_type": "stream",
     "text": [
      "<class 'pandas.core.frame.DataFrame'>\n",
      "RangeIndex: 500 entries, 0 to 499\n",
      "Data columns (total 14 columns):\n",
      " #   Column              Non-Null Count  Dtype  \n",
      "---  ------              --------------  -----  \n",
      " 0   Customer_ID         500 non-null    int64  \n",
      " 1   Age                 500 non-null    int64  \n",
      " 2   Gender              500 non-null    object \n",
      " 3   Income              450 non-null    float64\n",
      " 4   Spending_Score      500 non-null    int64  \n",
      " 5   Credit_Score        450 non-null    float64\n",
      " 6   Loan_Amount         450 non-null    float64\n",
      " 7   Previous_Defaults   500 non-null    int64  \n",
      " 8   Marketing_Spend     500 non-null    int64  \n",
      " 9   Purchase_Frequency  500 non-null    int64  \n",
      " 10  Seasonality         500 non-null    object \n",
      " 11  Sales               500 non-null    int64  \n",
      " 12  Customer_Churn      500 non-null    int64  \n",
      " 13  Defaulted           500 non-null    int64  \n",
      "dtypes: float64(3), int64(9), object(2)\n",
      "memory usage: 54.8+ KB\n",
      "None\n",
      "   Customer_ID  Age  Gender    Income  Spending_Score  Credit_Score  \\\n",
      "0            1   56  Female  142418.0               7         391.0   \n",
      "1            2   69    Male   63088.0              82         652.0   \n",
      "2            3   46    Male  136868.0              91         662.0   \n",
      "3            4   32  Female       NaN              34         644.0   \n",
      "4            5   60    Male   59811.0              91         469.0   \n",
      "\n",
      "   Loan_Amount  Previous_Defaults  Marketing_Spend  Purchase_Frequency  \\\n",
      "0       8083.0                  1            15376                   3   \n",
      "1      34328.0                  2             6889                   6   \n",
      "2      47891.0                  2             6054                  29   \n",
      "3      25103.0                  2             4868                   8   \n",
      "4      44891.0                  1            17585                  12   \n",
      "\n",
      "  Seasonality  Sales  Customer_Churn  Defaulted  \n",
      "0         Low  32526               0          0  \n",
      "1         Low  78493               0          0  \n",
      "2      Medium  57198               1          0  \n",
      "3      Medium  48395               0          0  \n",
      "4        High  29031               1          0  \n"
     ]
    }
   ],
   "source": [
    "import pandas as pd\n",
    "\n",
    "# Load the dataset\n",
    "df = pd.read_csv(\"/Users/bharatheeshls/Downloads/raw_dataset_week4.csv\")\n",
    "\n",
    "# Display basic info\n",
    "print(df.info())\n",
    "print(df.head())\n"
   ]
  },
  {
   "cell_type": "code",
   "execution_count": 2,
   "metadata": {},
   "outputs": [
    {
     "name": "stderr",
     "output_type": "stream",
     "text": [
      "/var/folders/gd/xc4sqkw17z9dzb81bfn98vwh0000gn/T/ipykernel_82686/3753925596.py:2: FutureWarning: A value is trying to be set on a copy of a DataFrame or Series through chained assignment using an inplace method.\n",
      "The behavior will change in pandas 3.0. This inplace method will never work because the intermediate object on which we are setting values always behaves as a copy.\n",
      "\n",
      "For example, when doing 'df[col].method(value, inplace=True)', try using 'df.method({col: value}, inplace=True)' or df[col] = df[col].method(value) instead, to perform the operation inplace on the original object.\n",
      "\n",
      "\n",
      "  df['Income'].fillna(df['Income'].mean(), inplace=True)\n",
      "/var/folders/gd/xc4sqkw17z9dzb81bfn98vwh0000gn/T/ipykernel_82686/3753925596.py:3: FutureWarning: A value is trying to be set on a copy of a DataFrame or Series through chained assignment using an inplace method.\n",
      "The behavior will change in pandas 3.0. This inplace method will never work because the intermediate object on which we are setting values always behaves as a copy.\n",
      "\n",
      "For example, when doing 'df[col].method(value, inplace=True)', try using 'df.method({col: value}, inplace=True)' or df[col] = df[col].method(value) instead, to perform the operation inplace on the original object.\n",
      "\n",
      "\n",
      "  df['Credit_Score'].fillna(df['Credit_Score'].mean(), inplace=True)\n",
      "/var/folders/gd/xc4sqkw17z9dzb81bfn98vwh0000gn/T/ipykernel_82686/3753925596.py:4: FutureWarning: A value is trying to be set on a copy of a DataFrame or Series through chained assignment using an inplace method.\n",
      "The behavior will change in pandas 3.0. This inplace method will never work because the intermediate object on which we are setting values always behaves as a copy.\n",
      "\n",
      "For example, when doing 'df[col].method(value, inplace=True)', try using 'df.method({col: value}, inplace=True)' or df[col] = df[col].method(value) instead, to perform the operation inplace on the original object.\n",
      "\n",
      "\n",
      "  df['Loan_Amount'].fillna(df['Loan_Amount'].mean(), inplace=True)\n"
     ]
    }
   ],
   "source": [
    "# Fill missing values with column mean\n",
    "df['Income'].fillna(df['Income'].mean(), inplace=True)\n",
    "df['Credit_Score'].fillna(df['Credit_Score'].mean(), inplace=True)\n",
    "df['Loan_Amount'].fillna(df['Loan_Amount'].mean(), inplace=True)\n"
   ]
  },
  {
   "cell_type": "code",
   "execution_count": 3,
   "metadata": {},
   "outputs": [],
   "source": [
    "# Define a function to remove outliers using IQR\n",
    "def remove_outliers_iqr(dataframe, columns):\n",
    "    for col in columns:\n",
    "        Q1 = dataframe[col].quantile(0.25)\n",
    "        Q3 = dataframe[col].quantile(0.75)\n",
    "        IQR = Q3 - Q1\n",
    "        lower_bound = Q1 - 1.5 * IQR\n",
    "        upper_bound = Q3 + 1.5 * IQR\n",
    "        dataframe = dataframe[(dataframe[col] >= lower_bound) & (dataframe[col] <= upper_bound)]\n",
    "    return dataframe\n",
    "\n",
    "# Apply to selected numeric columns\n",
    "numeric_cols = ['Income', 'Credit_Score', 'Loan_Amount', 'Sales']\n",
    "df_cleaned = remove_outliers_iqr(df, numeric_cols)\n"
   ]
  },
  {
   "cell_type": "code",
   "execution_count": 5,
   "metadata": {},
   "outputs": [
    {
     "name": "stdout",
     "output_type": "stream",
     "text": [
      "Cleaned dataset saved to: //Users/bharatheeshls/Downloads/cleaned_dataset_week4.csv\n"
     ]
    }
   ],
   "source": [
    "import os\n",
    "\n",
    "# Save to your Mac's Desktop\n",
    "desktop_path = os.path.expanduser(\"//Users/bharatheeshls/Downloads/cleaned_dataset_week4.csv\")\n",
    "df_cleaned.to_csv(desktop_path, index=False)\n",
    "print(f\"Cleaned dataset saved to: {desktop_path}\")\n"
   ]
  },
  {
   "cell_type": "code",
   "execution_count": 6,
   "metadata": {},
   "outputs": [],
   "source": [
    "import pandas as pd\n",
    "\n",
    "# Load cleaned data\n",
    "df = pd.read_csv(\"/Users/bharatheeshls/Downloads/cleaned_dataset_week4.csv\")\n"
   ]
  },
  {
   "cell_type": "code",
   "execution_count": 7,
   "metadata": {},
   "outputs": [],
   "source": [
    "# Convert 'Seasonality' and 'Gender' to numeric using one-hot encoding\n",
    "df = pd.get_dummies(df, columns=['Seasonality', 'Gender'], drop_first=True)\n"
   ]
  },
  {
   "cell_type": "code",
   "execution_count": 9,
   "metadata": {},
   "outputs": [
    {
     "name": "stdout",
     "output_type": "stream",
     "text": [
      "Index(['Customer_ID', 'Age', 'Income', 'Spending_Score', 'Credit_Score',\n",
      "       'Loan_Amount', 'Previous_Defaults', 'Marketing_Spend',\n",
      "       'Purchase_Frequency', 'Sales', 'Customer_Churn', 'Defaulted',\n",
      "       'Seasonality_Low', 'Seasonality_Medium', 'Gender_Male'],\n",
      "      dtype='object')\n"
     ]
    }
   ],
   "source": [
    "print(df.columns)\n"
   ]
  },
  {
   "cell_type": "code",
   "execution_count": 10,
   "metadata": {},
   "outputs": [],
   "source": [
    "# List available columns to check which dummy columns exist\n",
    "available_cols = df.columns.tolist()\n",
    "\n",
    "# Create feature list safely\n",
    "features = [\n",
    "    'Marketing_Spend', 'Purchase_Frequency', 'Income', 'Loan_Amount',\n",
    "    'Seasonality_Medium' if 'Seasonality_Medium' in available_cols else None,\n",
    "    'Seasonality_High' if 'Seasonality_High' in available_cols else None,\n",
    "    'Gender_Male' if 'Gender_Male' in available_cols else None\n",
    "]\n",
    "\n",
    "# Remove any None values\n",
    "features = [f for f in features if f is not None]\n",
    "\n",
    "# Select features\n",
    "X = df[features]\n",
    "y = df['Sales']\n"
   ]
  },
  {
   "cell_type": "code",
   "execution_count": 12,
   "metadata": {},
   "outputs": [],
   "source": [
    "from sklearn.model_selection import train_test_split\n",
    "\n",
    "# Split the updated feature set\n",
    "X_train, X_test, y_train, y_test = train_test_split(X, y, test_size=0.2, random_state=42)\n"
   ]
  },
  {
   "cell_type": "code",
   "execution_count": 13,
   "metadata": {},
   "outputs": [],
   "source": [
    "model = LinearRegression()\n",
    "model.fit(X_train, y_train)\n",
    "\n",
    "predictions = model.predict(X_test)\n"
   ]
  },
  {
   "cell_type": "code",
   "execution_count": 14,
   "metadata": {},
   "outputs": [
    {
     "data": {
      "image/png": "[encoded data removed]",
      "text/plain": [
       "<Figure size 800x500 with 1 Axes>"
      ]
     },
     "metadata": {},
     "output_type": "display_data"
    }
   ],
   "source": [
    "import matplotlib.pyplot as plt\n",
    "\n",
    "# Scatter plot: Actual vs Predicted\n",
    "plt.figure(figsize=(8, 5))\n",
    "plt.scatter(y_test, predictions, alpha=0.6)\n",
    "plt.xlabel(\"Actual Sales\")\n",
    "plt.ylabel(\"Predicted Sales\")\n",
    "plt.title(\"Actual vs Predicted Sales\")\n",
    "plt.plot([y_test.min(), y_test.max()], [y_test.min(), y_test.max()], color='red', linestyle='--')\n",
    "plt.grid(True)\n",
    "plt.tight_layout()\n",
    "plt.show()\n"
   ]
  },
  {
   "cell_type": "code",
   "execution_count": 15,
   "metadata": {},
   "outputs": [
    {
     "name": "stdout",
     "output_type": "stream",
     "text": [
      "Predictions saved to Downloads!\n"
     ]
    }
   ],
   "source": [
    "# Save a CSV with actual and predicted values\n",
    "results = pd.DataFrame({\n",
    "    'Actual_Sales': y_test,\n",
    "    'Predicted_Sales': predictions\n",
    "})\n",
    "results.to_csv(\"/Users/bharatheeshls/Downloads/sales_predictions.csv\", index=False)\n",
    "print(\"Predictions saved to Downloads!\")\n"
   ]
  },
  {
   "cell_type": "code",
   "execution_count": 16,
   "metadata": {},
   "outputs": [],
   "source": [
    "# Select features and target\n",
    "features = ['Income', 'Loan_Amount', 'Credit_Score', 'Marketing_Spend', 'Age']\n",
    "X = df[features]\n",
    "y = df['Defaulted']\n"
   ]
  },
  {
   "cell_type": "code",
   "execution_count": 17,
   "metadata": {},
   "outputs": [],
   "source": [
    "from sklearn.model_selection import train_test_split\n",
    "\n",
    "X_train, X_test, y_train, y_test = train_test_split(X, y, test_size=0.2, random_state=42)\n"
   ]
  },
  {
   "cell_type": "code",
   "execution_count": 18,
   "metadata": {},
   "outputs": [
    {
     "name": "stdout",
     "output_type": "stream",
     "text": [
      "Accuracy: 0.83\n",
      "Classification Report:\n",
      "               precision    recall  f1-score   support\n",
      "\n",
      "           0       0.83      1.00      0.91        82\n",
      "           1       1.00      0.06      0.11        18\n",
      "\n",
      "    accuracy                           0.83       100\n",
      "   macro avg       0.91      0.53      0.51       100\n",
      "weighted avg       0.86      0.83      0.76       100\n",
      "\n"
     ]
    }
   ],
   "source": [
    "from sklearn.ensemble import RandomForestClassifier\n",
    "from sklearn.metrics import accuracy_score, classification_report, confusion_matrix\n",
    "\n",
    "model = RandomForestClassifier(n_estimators=100, random_state=42)\n",
    "model.fit(X_train, y_train)\n",
    "\n",
    "# Predict\n",
    "y_pred = model.predict(X_test)\n",
    "\n",
    "# Evaluate\n",
    "print(\"Accuracy:\", accuracy_score(y_test, y_pred))\n",
    "print(\"Classification Report:\\n\", classification_report(y_test, y_pred))\n"
   ]
  },
  {
   "cell_type": "code",
   "execution_count": 19,
   "metadata": {},
   "outputs": [
    {
     "data": {
      "image/png": "[encoded data removed]",
      "text/plain": [
       "<Figure size 640x480 with 2 Axes>"
      ]
     },
     "metadata": {},
     "output_type": "display_data"
    }
   ],
   "source": [
    "import seaborn as sns\n",
    "import matplotlib.pyplot as plt\n",
    "from sklearn.metrics import ConfusionMatrixDisplay\n",
    "\n",
    "ConfusionMatrixDisplay.from_estimator(model, X_test, y_test, cmap='Blues')\n",
    "plt.title(\"Loan Default Prediction - Confusion Matrix\")\n",
    "plt.tight_layout()\n",
    "plt.show()\n"
   ]
  },
  {
   "cell_type": "code",
   "execution_count": 20,
   "metadata": {},
   "outputs": [
    {
     "name": "stdout",
     "output_type": "stream",
     "text": [
      "Loan default predictions saved to Downloads!\n"
     ]
    }
   ],
   "source": [
    "results = pd.DataFrame({\n",
    "    'Actual_Default': y_test,\n",
    "    'Predicted_Default': y_pred\n",
    "})\n",
    "results.to_csv(\"/Users/bharatheeshls/Downloads/default_predictions.csv\", index=False)\n",
    "print(\"Loan default predictions saved to Downloads!\")\n"
   ]
  }
 ],
 "metadata": {
  "kernelspec": {
   "display_name": "Python 3",
   "language": "python",
   "name": "python3"
  },
  "language_info": {
   "codemirror_mode": {
    "name": "ipython",
    "version": 3
   },
   "file_extension": ".py",
   "mimetype": "text/x-python",
   "name": "python",
   "nbconvert_exporter": "python",
   "pygments_lexer": "ipython3",
   "version": "3.13.2"
  }
 },
 "nbformat": 4,
 "nbformat_minor": 2
}
